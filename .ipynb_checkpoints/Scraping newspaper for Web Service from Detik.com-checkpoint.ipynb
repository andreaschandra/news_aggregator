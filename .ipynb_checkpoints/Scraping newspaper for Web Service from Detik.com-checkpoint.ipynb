{
 "cells": [
  {
   "cell_type": "code",
   "execution_count": 6,
   "metadata": {
    "collapsed": true
   },
   "outputs": [],
   "source": [
    "import urllib3\n",
    "import certifi\n",
    "import mysql.connector as sql\n",
    "from bs4 import BeautifulSoup\n",
    "\n",
    "#Urllib3\n",
    "http = urllib3.PoolManager( cert_reqs='CERT_REQUIRED', ca_certs=certifi.where())\n",
    "\n",
    "def generate_date(prev_date):\n",
    "    from datetime import date, timedelta\n",
    "    date_list = []\n",
    "    for i in range(1, prev_date):\n",
    "        tanggal = date.today() - timedelta(i)\n",
    "        date_list.append(tanggal)\n",
    "    \n",
    "    return date_list\n",
    "\n",
    "def insert(title, image, url, date):\n",
    "    db_connection = sql.connect(host='127.0.0.1', database='news_aggregator', user='root', password='')\n",
    "    cursor = db_connection.cursor()\n",
    "    \n",
    "    #Try Except\n",
    "    try:\n",
    "        data_table = (\"INSERT INTO data (TITLE, IMAGE, URL, DATE) VALUES (%s, %s, %s, %s)\")\n",
    "        data_value = (title, image, url, date)\n",
    "\n",
    "        cursor.execute(data_table, data_value)\n",
    "        db_connection.commit()\n",
    "\n",
    "    except sql.IntegrityError:\n",
    "        print('duplicate entry')\n",
    "        \n",
    "    cursor.close()\n",
    "    db_connection.close()"
   ]
  },
  {
   "cell_type": "markdown",
   "metadata": {},
   "source": [
    "## news.detik.com"
   ]
  },
  {
   "cell_type": "code",
   "execution_count": 17,
   "metadata": {
    "collapsed": true
   },
   "outputs": [],
   "source": [
    "def pull_data_news_detik(domain, pagination, duration):\n",
    "    \n",
    "    date = generate_date(duration)\n",
    "    for date_current in date:\n",
    "        for j in range(1, pagination):\n",
    "            url = domain + str(j) + '?date=' + date_current.strftime('%m/%d/%Y')\n",
    "            print(url)\n",
    "            \n",
    "            #Get article from website\n",
    "            req = http.request('GET', url)\n",
    "            soup = BeautifulSoup(req.data, 'lxml')\n",
    "            \n",
    "            try:\n",
    "                container = soup.find('ul', attrs={'id':'indeks-container'})\n",
    "            except:\n",
    "                print('container not found')\n",
    "                break\n",
    "                \n",
    "            try:\n",
    "                boxes = container.find_all('li')\n",
    "            except:\n",
    "                print('box not found')\n",
    "                break\n",
    "\n",
    "            for i in range(0, len(boxes)):\n",
    "                box = container.find_all('li')[i]\n",
    "                \n",
    "                #Get Title Article\n",
    "                try:\n",
    "                    title = box.find('h2').text\n",
    "                except:\n",
    "                    print('h2.text not found')\n",
    "                    break\n",
    "                    \n",
    "                #Get Image\n",
    "                image = \"\"\n",
    "\n",
    "                #Get URL Article\n",
    "                try:\n",
    "                    url = box.find('a').get('href')\n",
    "                except:\n",
    "                    print('href not found')\n",
    "                    break\n",
    "                    \n",
    "                #Get Date\n",
    "                date = date_current\n",
    "                \n",
    "                insert(title, image, url, date)"
   ]
  },
  {
   "cell_type": "markdown",
   "metadata": {},
   "source": [
    "## finance.detik.com"
   ]
  },
  {
   "cell_type": "code",
   "execution_count": 24,
   "metadata": {
    "collapsed": true
   },
   "outputs": [],
   "source": [
    "def pull_data_finance_detik(domain, duration):\n",
    "    \n",
    "    date = generate_date(duration)\n",
    "    for date_current in date:\n",
    "        url = domain + '?date=' + date_current.strftime('%m/%d/%Y')\n",
    "        print(url)\n",
    "\n",
    "        #Get article from website\n",
    "        req = http.request('GET', url)\n",
    "        soup = BeautifulSoup(req.data, 'lxml')\n",
    "\n",
    "        try:\n",
    "            container = soup.find('div', attrs={'class':'lf_content boxlr w868 fr ml10'})\n",
    "        except:\n",
    "            print('container not found')\n",
    "            break\n",
    "        \n",
    "        try:\n",
    "            container = container.find('ul')\n",
    "        except:\n",
    "            print('container 2 not found')\n",
    "            break\n",
    "        \n",
    "        try:\n",
    "            boxes = container.find_all('li')\n",
    "        except:\n",
    "            print('box not found')\n",
    "            break\n",
    "\n",
    "        for i in range(0, len(boxes)):\n",
    "            box = container.find_all('li')[i]\n",
    "\n",
    "            #Get Title Article\n",
    "            try:\n",
    "                title = box.find('h2').text\n",
    "            except:\n",
    "                print('h2.text not found')\n",
    "                break\n",
    "\n",
    "            #Get Image\n",
    "            image = \"\"\n",
    "\n",
    "            #Get URL Article\n",
    "            try:\n",
    "                url = box.find('a').get('href')\n",
    "            except:\n",
    "                print('href not found')\n",
    "                break\n",
    "\n",
    "            #Get Date\n",
    "            date = date_current\n",
    "\n",
    "            insert(title, image, url, date)"
   ]
  },
  {
   "cell_type": "markdown",
   "metadata": {},
   "source": [
    "## inet.detik.com"
   ]
  },
  {
   "cell_type": "code",
   "execution_count": null,
   "metadata": {
    "collapsed": true
   },
   "outputs": [],
   "source": [
    "def pull_data_inet_detik(domain, duration):\n",
    "    return \"to do\""
   ]
  },
  {
   "cell_type": "markdown",
   "metadata": {},
   "source": [
    "## oto.detik.com"
   ]
  },
  {
   "cell_type": "code",
   "execution_count": null,
   "metadata": {
    "collapsed": true
   },
   "outputs": [],
   "source": [
    "def pull_data_oto_detik(domain, duration):\n",
    "    return \"to do\""
   ]
  },
  {
   "cell_type": "markdown",
   "metadata": {},
   "source": [
    "## travel.detik.com"
   ]
  },
  {
   "cell_type": "code",
   "execution_count": null,
   "metadata": {
    "collapsed": true
   },
   "outputs": [],
   "source": [
    "def pull_data_travel_detik(domain, duration):\n",
    "    return \"to do\""
   ]
  },
  {
   "cell_type": "markdown",
   "metadata": {},
   "source": [
    "## hot sport sepakbola detik.com"
   ]
  },
  {
   "cell_type": "code",
   "execution_count": null,
   "metadata": {
    "collapsed": true
   },
   "outputs": [],
   "source": [
    "def pull_data_hot_sport_sb_detik(domain, duration):\n",
    "    return \"to do\""
   ]
  },
  {
   "cell_type": "markdown",
   "metadata": {},
   "source": [
    "## food health wolipop detik.com"
   ]
  },
  {
   "cell_type": "code",
   "execution_count": null,
   "metadata": {
    "collapsed": true
   },
   "outputs": [],
   "source": [
    "def pull_data_food_health_wolipop_detik(domain, duration):\n",
    "    return \"to do\""
   ]
  },
  {
   "cell_type": "code",
   "execution_count": 8,
   "metadata": {
    "collapsed": true
   },
   "outputs": [],
   "source": [
    "domain = [\n",
    "    'https://news.detik.com/indeks/all/',\n",
    "    'https://finance.detik.com/indeks?date=08/17/2017',\n",
    "    'https://inet.detik.com/main/indeks?date=08/17/2017',\n",
    "    'https://oto.detik.com/indeks?date=08/17/2017',\n",
    "    'https://travel.detik.com/indeks?date=08/17/2017'\n",
    "]\n",
    "\n",
    "domain_datepick = [\n",
    "    'https://hot.detik.com/indeks',\n",
    "    'https://sport.detik.com/indeks',\n",
    "    'https://sport.detik.com/sepakbola/indeks'\n",
    "]\n",
    "\n",
    "domain_pisah = [\n",
    "    'https://food.detik.com/indeks',\n",
    "    'https://health.detik.com/indeks',\n",
    "    'https://wolipop.detik.com/index',\n",
    "]"
   ]
  },
  {
   "cell_type": "code",
   "execution_count": 25,
   "metadata": {
    "collapsed": false
   },
   "outputs": [
    {
     "name": "stdout",
     "output_type": "stream",
     "text": [
      "https://finance.detik.com/indeks?date=08/17/2017?date=08/20/2017\n"
     ]
    }
   ],
   "source": [
    "#pull_data_news_detik(domain[0], 20, 2)\n",
    "pull_data_finance_detik(domain[1], 2)\n",
    "# pull_data_inet_detik()\n",
    "# pull_data_oto_detik()\n",
    "# pull_data_travel_detik()\n",
    "# pull_data_hot_sport_sb_detik()\n",
    "# pull_data_food_health_wolipop_detik()"
   ]
  }
 ],
 "metadata": {
  "kernelspec": {
   "display_name": "Python 3",
   "language": "python",
   "name": "python3"
  },
  "language_info": {
   "codemirror_mode": {
    "name": "ipython",
    "version": 3
   },
   "file_extension": ".py",
   "mimetype": "text/x-python",
   "name": "python",
   "nbconvert_exporter": "python",
   "pygments_lexer": "ipython3",
   "version": "3.6.0"
  }
 },
 "nbformat": 4,
 "nbformat_minor": 2
}
