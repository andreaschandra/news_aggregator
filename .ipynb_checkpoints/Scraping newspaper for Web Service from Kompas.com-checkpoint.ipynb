{
 "cells": [
  {
   "cell_type": "code",
   "execution_count": 1,
   "metadata": {
    "collapsed": true
   },
   "outputs": [],
   "source": [
    "import urllib3\n",
    "import mysql.connector as sql\n",
    "from bs4 import BeautifulSoup\n",
    "\n",
    "#Connection and Urllib3\n",
    "db_connection = sql.connect(host='127.0.0.1', database='news_aggregator', user='root', password='')\n",
    "cursor = db_connection.cursor()\n",
    "http = urllib3.PoolManager()\n",
    "\n",
    "def generate_date(prev_date):\n",
    "    from datetime import date, timedelta\n",
    "    date_list = []\n",
    "    for i in range(1, prev_date):\n",
    "        tanggal = date.today() - timedelta(i)\n",
    "        date_list.append(tanggal)\n",
    "    \n",
    "    return date_list\n",
    "\n",
    "def insert(title, image, url, date):\n",
    "    db_connection = sql.connect(host='127.0.0.1', database='news_aggregator', user='root', password='')\n",
    "    cursor = db_connection.cursor()\n",
    "    \n",
    "    #Try Except\n",
    "    try:\n",
    "        data_table = (\"INSERT INTO data (TITLE, IMAGE, URL, DATE) VALUES (%s, %s, %s, %s)\")\n",
    "        data_value = (title, image, url, date)\n",
    "\n",
    "        cursor.execute(data_table, data_value)\n",
    "        db_connection.commit()\n",
    "\n",
    "    except sql.IntegrityError:\n",
    "        print('duplicate entry')\n",
    "        \n",
    "    cursor.close()\n",
    "    db_connection.close()"
   ]
  },
  {
   "cell_type": "code",
   "execution_count": 2,
   "metadata": {
    "collapsed": true
   },
   "outputs": [],
   "source": [
    "def pull_data_kompas(domain, pagination, duration):\n",
    "    \n",
    "    date = generate_date(duration)\n",
    "    for date_current in date:\n",
    "        for j in range(1, pagination):\n",
    "            url = domain + str(date_current) + '/' + str(j)\n",
    "            print(url)\n",
    "    \n",
    "            #Get article from website\n",
    "            req = http.request('GET', url)\n",
    "            soup = BeautifulSoup(req.data, 'lxml')\n",
    "            \n",
    "            try:\n",
    "                container = soup.find('div', attrs={'class':'latest--indeks mt2 clearfix'})\n",
    "            except:\n",
    "                print('container not found')\n",
    "                break\n",
    "                \n",
    "            try:\n",
    "                boxes = container.find_all('div', attrs={'class': 'article__list clearfix'})\n",
    "            except:\n",
    "                print('box not found')\n",
    "                break\n",
    "\n",
    "            for i in range(0, len(boxes)):\n",
    "                box = container.find_all('div', attrs={'class': 'article__list clearfix'})[i]\n",
    "                \n",
    "                #Get Title Article\n",
    "                try:\n",
    "                    title = box.find('h3').text\n",
    "                except:\n",
    "                    print('h2.text not found')\n",
    "                    break\n",
    "                    \n",
    "                #Get Image\n",
    "                try:\n",
    "                    image = box.find('img').get('src')\n",
    "                except:\n",
    "                    print('image not found')\n",
    "                    break\n",
    "\n",
    "                #Get URL Article\n",
    "                try:\n",
    "                    url = box.find('a').get('href')\n",
    "                except:\n",
    "                    print('href not found')\n",
    "                    break\n",
    "                    \n",
    "                #Get Date\n",
    "                date = date_current\n",
    "                \n",
    "                insert(title, image, url, date)\n",
    "\n",
    "    return \"Done\""
   ]
  },
  {
   "cell_type": "code",
   "execution_count": 3,
   "metadata": {
    "collapsed": true
   },
   "outputs": [],
   "source": [
    "domain = [\n",
    "    'http://indeks.kompas.com/news/',\n",
    "    'http://indeks.kompas.com/ekonomi/',\n",
    "    'http://indeks.kompas.com/bola/',\n",
    "    'http://indeks.kompas.com/tekno/',\n",
    "    'http://sains.kompas.com/search/',\n",
    "    'http://indeks.kompas.com/entertainment/',\n",
    "    'http://indeks.kompas.com/otomotif/',\n",
    "    'http://indeks.kompas.com/lifestyle/',\n",
    "    'http://indeks.kompas.com/properti/',\n",
    "    'http://travel.kompas.com/search/',\n",
    "    'http://indeks.kompas.com/edukasi/'\n",
    "]"
   ]
  },
  {
   "cell_type": "code",
   "execution_count": 4,
   "metadata": {
    "collapsed": false
   },
   "outputs": [
    {
     "ename": "SyntaxError",
     "evalue": "unexpected EOF while parsing (<ipython-input-4-8271fa38632c>, line 2)",
     "output_type": "error",
     "traceback": [
      "\u001b[0;36m  File \u001b[0;32m\"<ipython-input-4-8271fa38632c>\"\u001b[0;36m, line \u001b[0;32m2\u001b[0m\n\u001b[0;31m    #     pull_data_kompas(url, 20, 2)\u001b[0m\n\u001b[0m                                      ^\u001b[0m\n\u001b[0;31mSyntaxError\u001b[0m\u001b[0;31m:\u001b[0m unexpected EOF while parsing\n"
     ]
    }
   ],
   "source": [
    "for url in domain:\n",
    "    pull_data_kompas(url, 20, 2)"
   ]
  }
 ],
 "metadata": {
  "kernelspec": {
   "display_name": "Python 3",
   "language": "python",
   "name": "python3"
  },
  "language_info": {
   "codemirror_mode": {
    "name": "ipython",
    "version": 3
   },
   "file_extension": ".py",
   "mimetype": "text/x-python",
   "name": "python",
   "nbconvert_exporter": "python",
   "pygments_lexer": "ipython3",
   "version": "3.6.0"
  }
 },
 "nbformat": 4,
 "nbformat_minor": 2
}
