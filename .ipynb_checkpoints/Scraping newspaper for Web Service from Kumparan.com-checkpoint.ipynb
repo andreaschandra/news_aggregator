{
 "cells": [
  {
   "cell_type": "code",
   "execution_count": 17,
   "metadata": {
    "collapsed": true
   },
   "outputs": [],
   "source": [
    "import urllib3\n",
    "import certifi\n",
    "import json\n",
    "import mysql.connector as sql\n",
    "from bs4 import BeautifulSoup\n",
    "\n",
    "#Urllib3\n",
    "http = urllib3.PoolManager( cert_reqs='CERT_REQUIRED', ca_certs=certifi.where())\n",
    "\n",
    "def generate_date(prev_date):\n",
    "    from datetime import date, timedelta\n",
    "    date_list = []\n",
    "    for i in range(1, prev_date):\n",
    "        tanggal = date.today() - timedelta(i)\n",
    "        date_list.append(tanggal)\n",
    "    \n",
    "    return date_list\n",
    "\n",
    "def insert(title, image, url, date):\n",
    "    db_connection = sql.connect(host='127.0.0.1', database='news_aggregator', user='root', password='')\n",
    "    cursor = db_connection.cursor()\n",
    "    \n",
    "    #Try Except\n",
    "    try:\n",
    "        data_table = (\"INSERT INTO data (TITLE, IMAGE, URL, DATE) VALUES (%s, %s, %s, %s)\")\n",
    "        data_value = (title, image, url, date)\n",
    "\n",
    "        cursor.execute(data_table, data_value)\n",
    "        db_connection.commit()\n",
    "\n",
    "    except sql.IntegrityError:\n",
    "        print('duplicate entry')\n",
    "        \n",
    "    cursor.close()\n",
    "    db_connection.close()"
   ]
  },
  {
   "cell_type": "code",
   "execution_count": 63,
   "metadata": {
    "collapsed": true
   },
   "outputs": [],
   "source": [
    "def pull_data_kumparan(domain, pagination):\n",
    "\n",
    "    for j in range(1, pagination):\n",
    "        url = domain + str(j)\n",
    "        print(url)\n",
    "\n",
    "        #Get article from website\n",
    "        req = http.request('GET', url)\n",
    "        jsondata = json.loads(req.data)\n",
    "        results = jsondata['results']\n",
    "        \n",
    "        for i in range(0, len(results)):\n",
    "            \n",
    "            #Get Title Article\n",
    "            try:\n",
    "                title = results[i]['title']\n",
    "            except:\n",
    "                print('title not found')\n",
    "                break\n",
    "\n",
    "            #Get Image\n",
    "            try:\n",
    "                image = results[i]['lead_media']['urls'][0]\n",
    "            except:\n",
    "                print('image not found')\n",
    "                break\n",
    "\n",
    "            #Get URL Article\n",
    "            try:\n",
    "                url = 'https://kumparan.com/' + results[i]['author']['username'] + '/' + results[i]['slug']\n",
    "            except:\n",
    "                print('href not found')\n",
    "                break\n",
    "                \n",
    "            #Get Date\n",
    "            try:\n",
    "                dateraw = results[i]['date']['publish']\n",
    "                date = dateraw[:10]\n",
    "            except:\n",
    "                print('date not found')\n",
    "                break\n",
    "\n",
    "            insert(title, image, url, date)\n",
    "                \n",
    "    return \"done\""
   ]
  },
  {
   "cell_type": "code",
   "execution_count": 2,
   "metadata": {
    "collapsed": true
   },
   "outputs": [],
   "source": [
    "domain = 'https://api.kumparan.com/v1.0/stories?topic=liputan-khusus&page='"
   ]
  },
  {
   "cell_type": "code",
   "execution_count": 64,
   "metadata": {
    "collapsed": false
   },
   "outputs": [
    {
     "name": "stdout",
     "output_type": "stream",
     "text": [
      "https://api.kumparan.com/v1.0/stories?topic=liputan-khusus&page=1\n"
     ]
    },
    {
     "data": {
      "text/plain": [
       "'done'"
      ]
     },
     "execution_count": 64,
     "metadata": {},
     "output_type": "execute_result"
    }
   ],
   "source": [
    "pull_data_kumparan(domain, 2)"
   ]
  }
 ],
 "metadata": {
  "kernelspec": {
   "display_name": "Python 3",
   "language": "python",
   "name": "python3"
  },
  "language_info": {
   "codemirror_mode": {
    "name": "ipython",
    "version": 3
   },
   "file_extension": ".py",
   "mimetype": "text/x-python",
   "name": "python",
   "nbconvert_exporter": "python",
   "pygments_lexer": "ipython3",
   "version": "3.6.0"
  }
 },
 "nbformat": 4,
 "nbformat_minor": 2
}
