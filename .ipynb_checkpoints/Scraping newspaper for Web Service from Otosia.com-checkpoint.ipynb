{
 "cells": [
  {
   "cell_type": "code",
   "execution_count": 57,
   "metadata": {
    "collapsed": false
   },
   "outputs": [],
   "source": [
    "import urllib3\n",
    "import certifi\n",
    "import re\n",
    "import mysql.connector as sql\n",
    "from datetime import datetime\n",
    "from bs4 import BeautifulSoup\n",
    "\n",
    "#Urllib3\n",
    "http = urllib3.PoolManager(cert_reqs='CERT_REQUIRED', ca_certs=certifi.where())\n",
    "\n",
    "def generate_date(prev_date):\n",
    "    from datetime import date, timedelta\n",
    "    date_list = []\n",
    "    for i in range(1, prev_date):\n",
    "        tanggal = date.today() - timedelta(i)\n",
    "        date_list.append(tanggal)\n",
    "    \n",
    "    return date_list\n",
    "\n",
    "def insert(title, image, url, date):\n",
    "    db_connection = sql.connect(host='127.0.0.1', database='news_aggregator', user='root', password='')\n",
    "    cursor = db_connection.cursor()\n",
    "    \n",
    "    #Try Except\n",
    "    try:\n",
    "        data_table = (\"INSERT INTO data (TITLE, IMAGE, URL, DATE) VALUES (%s, %s, %s, %s)\")\n",
    "        data_value = (title, image, url, date)\n",
    "\n",
    "        cursor.execute(data_table, data_value)\n",
    "        db_connection.commit()\n",
    "\n",
    "    except sql.IntegrityError:\n",
    "        print('duplicate entry')\n",
    "        \n",
    "    cursor.close()\n",
    "    db_connection.close()"
   ]
  },
  {
   "cell_type": "code",
   "execution_count": 81,
   "metadata": {
    "collapsed": false
   },
   "outputs": [],
   "source": [
    "month = {'Januari': '01',\n",
    "         'Februari': '02',\n",
    "         'Maret': '03',\n",
    "         'April': '04',\n",
    "         'Mei': '05',\n",
    "         'Juni': '06',\n",
    "         'Juli': '07',\n",
    "         'Agustus': '08',\n",
    "         'September': '09',\n",
    "         'Oktober': '10',\n",
    "         'November': '11',\n",
    "         'Desember': '12'\n",
    "        }"
   ]
  },
  {
   "cell_type": "code",
   "execution_count": 86,
   "metadata": {
    "collapsed": false
   },
   "outputs": [],
   "source": [
    "def pull_data_otosia(domain, pagination):\n",
    "    \n",
    "    for j in range(1, pagination):\n",
    "        if j == 1:\n",
    "            url = domain + '.html'\n",
    "        else:\n",
    "            url = domain + str(j) +'.html'\n",
    "        print(url)\n",
    "        \n",
    "        #Get article from website\n",
    "        req = http.request('GET', url)\n",
    "        soup = BeautifulSoup(req.data, 'lxml')\n",
    "\n",
    "        try:\n",
    "            container = soup.find('div', attrs={'id':'mobart-box-big'})\n",
    "        except:\n",
    "            print('container not found')\n",
    "            break\n",
    "\n",
    "        try:\n",
    "            boxes = container.find_all('div', attrs={'class': 'article-index-box'})\n",
    "        except:\n",
    "            print('box not found')\n",
    "            break\n",
    "\n",
    "        for i in range(0, len(boxes)):\n",
    "            box = container.find_all('div', attrs={'class': 'article-index-box'})[i]\n",
    "\n",
    "            #Get Title Article\n",
    "            try:\n",
    "                title = box.find('h2').text\n",
    "            except:\n",
    "                print('h2.text not found')\n",
    "                break\n",
    "\n",
    "            #Get Image\n",
    "            try:\n",
    "                image = box.find('img').get('src')\n",
    "            except:\n",
    "                print('image not found')\n",
    "                break\n",
    "\n",
    "            #Get URL Article\n",
    "            try:\n",
    "                url = 'https://www.otosia.com/' + box.find('a').get('href')\n",
    "            except:\n",
    "                print('href not found')\n",
    "                break\n",
    "\n",
    "            #Get Date\n",
    "            try:\n",
    "                dateraw = box.find('span', attrs={'class': 'newsdetail-schedule'}).text\n",
    "                datestring = re.sub(r\"\"\".*, | [0-9]{2}:[0-9]{2}\"\"\", '', dateraw)\n",
    "                datearr = datestring.split(' ')\n",
    "                \n",
    "                for key in month:\n",
    "                    if datearr[1] in key:\n",
    "                        datearr[1] = month[key]\n",
    "                        \n",
    "                datestr = '/'.join(d for d in datearr)\n",
    "                date = datetime.strptime(datestr, '%d/%m/%Y')\n",
    "            except:\n",
    "                print('date not found')\n",
    "                break\n",
    "                    \n",
    "            insert(title, image, url, date)\n",
    "\n",
    "    return \"done\""
   ]
  },
  {
   "cell_type": "code",
   "execution_count": 89,
   "metadata": {
    "collapsed": true
   },
   "outputs": [],
   "source": [
    "domain = [\n",
    "    'https://www.otosia.com/berita/index',\n",
    "    'https://www.otosia.com/review/index',\n",
    "    'https://www.otosia.com/tips/index',\n",
    "]"
   ]
  },
  {
   "cell_type": "code",
   "execution_count": 90,
   "metadata": {
    "collapsed": false
   },
   "outputs": [
    {
     "name": "stdout",
     "output_type": "stream",
     "text": [
      "https://www.otosia.com/berita/index.html\n",
      "https://www.otosia.com/review/index.html\n",
      "https://www.otosia.com/tips/index.html\n",
      "duplicate entry\n",
      "duplicate entry\n",
      "duplicate entry\n",
      "duplicate entry\n",
      "duplicate entry\n",
      "duplicate entry\n",
      "duplicate entry\n",
      "duplicate entry\n",
      "duplicate entry\n",
      "duplicate entry\n",
      "duplicate entry\n",
      "duplicate entry\n"
     ]
    }
   ],
   "source": [
    "for url in domain:\n",
    "    pull_data_otosia(url, 2)"
   ]
  }
 ],
 "metadata": {
  "kernelspec": {
   "display_name": "Python 3",
   "language": "python",
   "name": "python3"
  },
  "language_info": {
   "codemirror_mode": {
    "name": "ipython",
    "version": 3
   },
   "file_extension": ".py",
   "mimetype": "text/x-python",
   "name": "python",
   "nbconvert_exporter": "python",
   "pygments_lexer": "ipython3",
   "version": "3.6.0"
  }
 },
 "nbformat": 4,
 "nbformat_minor": 2
}
