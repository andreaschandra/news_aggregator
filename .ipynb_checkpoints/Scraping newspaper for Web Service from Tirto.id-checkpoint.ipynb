{
 "cells": [
  {
   "cell_type": "code",
   "execution_count": 3,
   "metadata": {
    "collapsed": true
   },
   "outputs": [],
   "source": [
    "import urllib3\n",
    "import certifi\n",
    "import mysql.connector as sql\n",
    "from bs4 import BeautifulSoup\n",
    "\n",
    "#Urllib3\n",
    "http = urllib3.PoolManager( cert_reqs='CERT_REQUIRED', ca_certs=certifi.where())\n",
    "\n",
    "def generate_date(prev_date):\n",
    "    from datetime import date, timedelta\n",
    "    date_list = []\n",
    "    for i in range(1, prev_date):\n",
    "        tanggal = date.today() - timedelta(i)\n",
    "        date_list.append(tanggal)\n",
    "    \n",
    "    return date_list\n",
    "\n",
    "def insert(title, image, url, date):\n",
    "    db_connection = sql.connect(host='127.0.0.1', database='news_aggregator', user='root', password='')\n",
    "    cursor = db_connection.cursor()\n",
    "    \n",
    "    #Try Except\n",
    "    try:\n",
    "        data_table = (\"INSERT INTO data (TITLE, IMAGE, URL, DATE) VALUES (%s, %s, %s, %s)\")\n",
    "        data_value = (title, image, url, date)\n",
    "\n",
    "        cursor.execute(data_table, data_value)\n",
    "        db_connection.commit()\n",
    "\n",
    "    except sql.IntegrityError:\n",
    "        print(url)\n",
    "        print('duplicate entry')\n",
    "        \n",
    "    cursor.close()\n",
    "    db_connection.close()"
   ]
  },
  {
   "cell_type": "code",
   "execution_count": 39,
   "metadata": {
    "collapsed": false
   },
   "outputs": [],
   "source": [
    "def pull_data_tirto(domain, pagination, duration):\n",
    "    \n",
    "    date = generate_date(duration)\n",
    "    for date_current in date:\n",
    "        for j in range(1, pagination):\n",
    "            url = domain + str(j) + '?date=' + date_current.strftime('%Y-%m-%d')\n",
    "            print(url)\n",
    "            \n",
    "            #Get article from website\n",
    "            req = http.request('GET', url)\n",
    "            soup = BeautifulSoup(req.data, 'lxml')\n",
    "            \n",
    "            try:\n",
    "                container = soup.find('ul', attrs={'class':'media-list main-list'})\n",
    "            except:\n",
    "                print('container not found')\n",
    "                break\n",
    "                \n",
    "            try:\n",
    "                boxes = container.find_all('li', attrs={'class': 'media'})\n",
    "            except:\n",
    "                print('box not found')\n",
    "                break\n",
    "\n",
    "            for i in range(0, len(boxes)):\n",
    "                box = container.find_all('li', attrs={'class': 'media'})[i]\n",
    "                \n",
    "                #Get Title Article\n",
    "                try:\n",
    "                    title = box.find('h4').text\n",
    "                except:\n",
    "                    print('h2.text not found')\n",
    "                    break\n",
    "                    \n",
    "                #Get Image\n",
    "                image = \"\"\n",
    "\n",
    "                #Get URL Article\n",
    "                try:\n",
    "                    url = 'https:' + box.find('a').get('href')\n",
    "                    \n",
    "                    if url == 'https://tirto.id/suara-pembaca':\n",
    "                        break\n",
    "                except:\n",
    "                    print('href not found')\n",
    "                    break\n",
    "                    \n",
    "                #Get Date\n",
    "                date = date_current\n",
    "                \n",
    "                insert(title, image, url, date)\n",
    "                \n",
    "    return \"done\""
   ]
  },
  {
   "cell_type": "code",
   "execution_count": 4,
   "metadata": {
    "collapsed": true
   },
   "outputs": [],
   "source": [
    "domain = 'https://tirto.id/indeks/'"
   ]
  },
  {
   "cell_type": "code",
   "execution_count": 40,
   "metadata": {
    "collapsed": false
   },
   "outputs": [
    {
     "name": "stdout",
     "output_type": "stream",
     "text": [
      "https://tirto.id/indeks/1?date=2017-08-21\n",
      "https://tirto.id/indeks/2?date=2017-08-21\n",
      "https://tirto.id/indeks/3?date=2017-08-21\n"
     ]
    },
    {
     "data": {
      "text/plain": [
       "'done'"
      ]
     },
     "execution_count": 40,
     "metadata": {},
     "output_type": "execute_result"
    }
   ],
   "source": [
    "pull_data_tirto(domain, 4, 2)"
   ]
  }
 ],
 "metadata": {
  "kernelspec": {
   "display_name": "Python 3",
   "language": "python",
   "name": "python3"
  },
  "language_info": {
   "codemirror_mode": {
    "name": "ipython",
    "version": 3
   },
   "file_extension": ".py",
   "mimetype": "text/x-python",
   "name": "python",
   "nbconvert_exporter": "python",
   "pygments_lexer": "ipython3",
   "version": "3.6.0"
  }
 },
 "nbformat": 4,
 "nbformat_minor": 2
}
