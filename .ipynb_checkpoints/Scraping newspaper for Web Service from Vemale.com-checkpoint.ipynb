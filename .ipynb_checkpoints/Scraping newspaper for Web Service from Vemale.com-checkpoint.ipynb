{
 "cells": [
  {
   "cell_type": "code",
   "execution_count": 23,
   "metadata": {
    "collapsed": false
   },
   "outputs": [],
   "source": [
    "import urllib3\n",
    "import certifi\n",
    "import mysql.connector as sql\n",
    "from bs4 import BeautifulSoup\n",
    "\n",
    "#Urllib3\n",
    "http = urllib3.PoolManager( cert_reqs='CERT_REQUIRED', ca_certs=certifi.where())\n",
    "\n",
    "def generate_date(prev_date):\n",
    "    from datetime import date, timedelta\n",
    "    date_list = []\n",
    "    for i in range(1, prev_date):\n",
    "        tanggal = date.today() - timedelta(i)\n",
    "        date_list.append(tanggal)\n",
    "    \n",
    "    return date_list\n",
    "\n",
    "def insert(title, image, url, date):\n",
    "    db_connection = sql.connect(host='127.0.0.1', database='news_aggregator', user='root', password='')\n",
    "    cursor = db_connection.cursor()\n",
    "    \n",
    "    #Try Except\n",
    "    try:\n",
    "        data_table = (\"INSERT INTO data (TITLE, IMAGE, URL, DATE) VALUES (%s, %s, %s, %s)\")\n",
    "        data_value = (title, image, url, date)\n",
    "\n",
    "        cursor.execute(data_table, data_value)\n",
    "        db_connection.commit()\n",
    "\n",
    "    except sql.IntegrityError:\n",
    "        print('duplicate entry')\n",
    "        \n",
    "    cursor.close()\n",
    "    db_connection.close()"
   ]
  },
  {
   "cell_type": "code",
   "execution_count": 24,
   "metadata": {
    "collapsed": true
   },
   "outputs": [],
   "source": [
    "def pull_data_vemale(domain, pagination, duration):\n",
    "    \n",
    "    date = generate_date(duration)\n",
    "    for date_current in date:\n",
    "        for j in range(1, pagination):\n",
    "            url = domain + 'index' + str(j) + '.html'\n",
    "            print(url)\n",
    "    \n",
    "            #Get article from website\n",
    "            req = http.request('GET', url)\n",
    "            soup = BeautifulSoup(req.data, 'lxml')\n",
    "            \n",
    "            try:\n",
    "                containers = soup.find_all('ul', attrs={'class':'list-article-latest list-unstyled clearfix'})\n",
    "            except:\n",
    "                print('container not found')\n",
    "                break\n",
    "                \n",
    "            for cont in range(0, len(containers)):\n",
    "                container = soup.find_all('ul', attrs={'class':'list-article-latest list-unstyled clearfix'})[cont]\n",
    "                \n",
    "                try:\n",
    "                    box = container.find_all('li')\n",
    "                except:\n",
    "                    print('li not found')\n",
    "                    break\n",
    "\n",
    "                for i in range(0, len(box)):\n",
    "                    box_title = container.find_all('li')[i]\n",
    "\n",
    "                    #Get Title Article\n",
    "                    try:\n",
    "                        title = box_title.find('p').text\n",
    "                    except:\n",
    "                        print('p not found')\n",
    "                        break\n",
    "\n",
    "                    #Get Image\n",
    "                    try:\n",
    "                        image = box_title.find('img').get('src')\n",
    "                    except:\n",
    "                        print('image not found')\n",
    "                        break\n",
    "\n",
    "                    #Get URL Article\n",
    "                    try:\n",
    "                        url = box_title.find('a').get('href')\n",
    "                    except:\n",
    "                        print('href not found')\n",
    "                        break\n",
    "\n",
    "                    #Get Date\n",
    "                    date = date_current\n",
    "\n",
    "                    insert(title, image, url, date)\n",
    "\n",
    "    return \"Done\""
   ]
  },
  {
   "cell_type": "code",
   "execution_count": 26,
   "metadata": {
    "collapsed": true
   },
   "outputs": [],
   "source": [
    "domain = [\n",
    "    'https://www.vemale.com/parenting/',\n",
    "    'https://www.vemale.com/relationship/',\n",
    "    'https://www.vemale.com/lifestyle/',\n",
    "    'https://www.vemale.com/kuliner/',\n",
    "    'https://www.vemale.com/kesehatan/',\n",
    "    'https://video.vemale.com/',\n",
    "    'https://www.vemale.com/hall-of-fame/',\n",
    "    'https://www.vemale.com/dekor-rumah/',\n",
    "    'https://www.vemale.com/inspiring/',\n",
    "    'https://www.vemale.com/karir/',\n",
    "    'https://www.vemale.com/ragam/',\n",
    "    'https://www.vemale.com/brand/',\n",
    "    'https://www.vemale.com/keuangan/'\n",
    "]"
   ]
  },
  {
   "cell_type": "code",
   "execution_count": 25,
   "metadata": {
    "collapsed": false
   },
   "outputs": [
    {
     "name": "stdout",
     "output_type": "stream",
     "text": [
      "https://www.vemale.com/parenting/index1.html\n",
      "https://www.vemale.com/parenting/index2.html\n",
      "https://www.vemale.com/parenting/index3.html\n",
      "https://www.vemale.com/parenting/index4.html\n",
      "https://www.vemale.com/parenting/index5.html\n",
      "https://www.vemale.com/parenting/index6.html\n",
      "https://www.vemale.com/parenting/index7.html\n",
      "https://www.vemale.com/parenting/index8.html\n",
      "https://www.vemale.com/parenting/index9.html\n",
      "https://www.vemale.com/parenting/index10.html\n",
      "https://www.vemale.com/parenting/index11.html\n",
      "https://www.vemale.com/parenting/index12.html\n",
      "https://www.vemale.com/parenting/index13.html\n",
      "https://www.vemale.com/parenting/index14.html\n",
      "https://www.vemale.com/parenting/index15.html\n",
      "https://www.vemale.com/parenting/index16.html\n",
      "https://www.vemale.com/parenting/index17.html\n",
      "https://www.vemale.com/parenting/index18.html\n",
      "https://www.vemale.com/parenting/index19.html\n"
     ]
    }
   ],
   "source": [
    "for url in domain:\n",
    "    pull_data_vemale(url, 20, 2)"
   ]
  }
 ],
 "metadata": {
  "kernelspec": {
   "display_name": "Python 3",
   "language": "python",
   "name": "python3"
  },
  "language_info": {
   "codemirror_mode": {
    "name": "ipython",
    "version": 3
   },
   "file_extension": ".py",
   "mimetype": "text/x-python",
   "name": "python",
   "nbconvert_exporter": "python",
   "pygments_lexer": "ipython3",
   "version": "3.6.0"
  }
 },
 "nbformat": 4,
 "nbformat_minor": 2
}
