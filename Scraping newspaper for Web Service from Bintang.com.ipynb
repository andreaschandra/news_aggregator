{
 "cells": [
  {
   "cell_type": "code",
   "execution_count": 10,
   "metadata": {
    "collapsed": true
   },
   "outputs": [],
   "source": [
    "import urllib3\n",
    "import certifi\n",
    "import re\n",
    "import connection\n",
    "import mysql.connector as sql\n",
    "from datetime import date, timedelta, datetime\n",
    "from bs4 import BeautifulSoup\n",
    "\n",
    "#Connection and urllib3\n",
    "http = urllib3.PoolManager()\n",
    "\n",
    "def generate_date(prev_date):\n",
    "    date_list = []\n",
    "    for i in range(1, prev_date):\n",
    "        tanggal = date.today() - timedelta(i)\n",
    "        date_list.append(tanggal)\n",
    "    \n",
    "    return date_list\n",
    "\n",
    "def insert(title, image, url, date):\n",
    "    db_connection = sql.connect(host='127.0.0.1', database='news_aggregator', user='root', password='')\n",
    "    cursor = db_connection.cursor()\n",
    "    \n",
    "    #Try Except\n",
    "    try:\n",
    "        data_table = (\"INSERT INTO data (TITLE, IMAGE, URL, DATE) VALUES (%s, %s, %s, %s)\")\n",
    "        data_value = (title, image, url, date)\n",
    "\n",
    "        cursor.execute(data_table, data_value)\n",
    "        db_connection.commit()\n",
    "        \n",
    "    except sql.IntegrityError:\n",
    "        print('duplicate entry')\n",
    "        \n",
    "    cursor.close()\n",
    "    db_connection.close()"
   ]
  },
  {
   "cell_type": "code",
   "execution_count": 19,
   "metadata": {
    "collapsed": false
   },
   "outputs": [],
   "source": [
    "def pull_data_bintang(domain, pagination, duration):\n",
    "    \n",
    "    date = generate_date(duration)\n",
    "    for j in date:\n",
    "        for i in range(1, pagination):\n",
    "            url = domain + j.strftime('%Y/%m/%d') + '?page=' + str(i)\n",
    "            print(url)\n",
    "\n",
    "            req = http.request('GET', url)\n",
    "            soup = BeautifulSoup(req.data, 'html.parser')\n",
    "\n",
    "            try:\n",
    "                container = soup.find('div', attrs={'class': 'articles--list articles--list_rows'})\n",
    "            except:\n",
    "                break\n",
    "\n",
    "            try:\n",
    "                box = container.find_all('article', attrs={'class': 'articles--rows--item'})\n",
    "            except:\n",
    "                print('article not found')\n",
    "                break\n",
    "\n",
    "            for i in range(0, len(box)):\n",
    "                box_title = container.find_all('article', attrs={'class': 'articles--rows--item'})[i]\n",
    "\n",
    "                #get title\n",
    "                try:\n",
    "                    title = box_title.find('h4').text\n",
    "                except:\n",
    "                    print('title not found')\n",
    "                    break\n",
    "\n",
    "                #get image\n",
    "                image = box_title.find('img').get('src')\n",
    "\n",
    "                #get url\n",
    "                try:\n",
    "                    url = box_title.find('a').get('href')\n",
    "                except:\n",
    "                    print('href not found')\n",
    "                    next\n",
    "\n",
    "                #get date\n",
    "                date = j\n",
    "\n",
    "                insert(title, image, url, date)\n",
    "                        \n",
    "    return \"done\""
   ]
  },
  {
   "cell_type": "code",
   "execution_count": 15,
   "metadata": {
    "collapsed": true
   },
   "outputs": [],
   "source": [
    "domain = ['http://www.bintang.com/celeb/indeks/',\n",
    "          'http://www.bintang.com/lifestyle/indeks/',\n",
    "          'http://www.bintang.com/beauty/indeks/',\n",
    "          'http://www.bintang.com/style/indeks/',\n",
    "          'http://www.bintang.com/saur-sepuh/indeks/',\n",
    "          'http://www.bintang.com/photo/indeks/',\n",
    "          'http://www.bintang.com/video/indeks/',\n",
    "          'http://www.bintang.com/unique/indeks/',\n",
    "          'http://www.bintang.com/sex-health/indeks/',\n",
    "          'http://www.bintang.com/success/indeks/',\n",
    "          'http://www.bintang.com/relationship/indeks/',\n",
    "          'http://www.bintang.com/food-travel/indeks/',\n",
    "         ]"
   ]
  },
  {
   "cell_type": "code",
   "execution_count": null,
   "metadata": {
    "collapsed": false
   },
   "outputs": [
    {
     "name": "stdout",
     "output_type": "stream",
     "text": [
      "http://www.bintang.com/celeb/indeks/2017/08/17?page=1\n",
      "http://www.bintang.com/celeb/indeks/2017/08/17?page=2\n",
      "http://www.bintang.com/celeb/indeks/2017/08/17?page=3\n",
      "http://www.bintang.com/celeb/indeks/2017/08/17?page=4\n",
      "article not found\n",
      "http://www.bintang.com/lifestyle/indeks/2017/08/17?page=1\n",
      "http://www.bintang.com/lifestyle/indeks/2017/08/17?page=2\n",
      "article not found\n",
      "http://www.bintang.com/beauty/indeks/2017/08/17?page=1\n",
      "http://www.bintang.com/beauty/indeks/2017/08/17?page=2\n",
      "article not found\n",
      "http://www.bintang.com/style/indeks/2017/08/17?page=1\n",
      "http://www.bintang.com/style/indeks/2017/08/17?page=2\n",
      "article not found\n",
      "http://www.bintang.com/saur-sepuh/indeks/2017/08/17?page=1\n",
      "http://www.bintang.com/saur-sepuh/indeks/2017/08/17?page=2\n",
      "article not found\n",
      "http://www.bintang.com/photo/indeks/2017/08/17?page=1\n",
      "http://www.bintang.com/photo/indeks/2017/08/17?page=2\n",
      "article not found\n",
      "http://www.bintang.com/video/indeks/2017/08/17?page=1\n",
      "duplicate entry\n",
      "duplicate entry\n",
      "duplicate entry\n",
      "duplicate entry\n",
      "duplicate entry\n",
      "duplicate entry\n",
      "duplicate entry\n",
      "duplicate entry\n",
      "duplicate entry\n",
      "duplicate entry\n",
      "http://www.bintang.com/video/indeks/2017/08/17?page=2\n",
      "article not found\n",
      "http://www.bintang.com/unique/indeks/2017/08/17?page=1\n",
      "http://www.bintang.com/unique/indeks/2017/08/17?page=2\n",
      "article not found\n",
      "http://www.bintang.com/sex-health/indeks/2017/08/17?page=1\n",
      "http://www.bintang.com/sex-health/indeks/2017/08/17?page=2\n",
      "article not found\n",
      "http://www.bintang.com/success/indeks/2017/08/17?page=1\n",
      "http://www.bintang.com/success/indeks/2017/08/17?page=2\n",
      "article not found\n",
      "http://www.bintang.com/relationship/indeks/2017/08/17?page=1\n",
      "http://www.bintang.com/relationship/indeks/2017/08/17?page=2\n",
      "article not found\n",
      "http://www.bintang.com/food-travel/indeks/2017/08/17?page=1\n",
      "http://www.bintang.com/food-travel/indeks/2017/08/17?page=2\n"
     ]
    }
   ],
   "source": [
    "for i in domain:\n",
    "    pull_data_bintang(i, 10, 2)"
   ]
  }
 ],
 "metadata": {
  "kernelspec": {
   "display_name": "Python 3",
   "language": "python",
   "name": "python3"
  },
  "language_info": {
   "codemirror_mode": {
    "name": "ipython",
    "version": 3
   },
   "file_extension": ".py",
   "mimetype": "text/x-python",
   "name": "python",
   "nbconvert_exporter": "python",
   "pygments_lexer": "ipython3",
   "version": "3.6.0"
  }
 },
 "nbformat": 4,
 "nbformat_minor": 2
}
