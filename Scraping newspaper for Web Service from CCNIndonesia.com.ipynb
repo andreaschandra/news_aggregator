{
 "cells": [
  {
   "cell_type": "code",
   "execution_count": null,
   "metadata": {
    "collapsed": true
   },
   "outputs": [],
   "source": [
    "import urllib3\n",
    "import certifi\n",
    "import mysql.connector as sql\n",
    "from bs4 import BeautifulSoup\n",
    "\n",
    "#Urllib3\n",
    "http = urllib3.PoolManager( cert_reqs='CERT_REQUIRED', ca_certs=certifi.where())\n",
    "\n",
    "def generate_date(prev_date):\n",
    "    from datetime import date, timedelta\n",
    "    date_list = []\n",
    "    for i in range(1, prev_date):\n",
    "        tanggal = date.today() - timedelta(i)\n",
    "        date_list.append(tanggal)\n",
    "    \n",
    "    return date_list\n",
    "\n",
    "def insert(title, image, url, date):\n",
    "    db_connection = sql.connect(host='127.0.0.1', database='news_aggregator', user='root', password='')\n",
    "    cursor = db_connection.cursor()\n",
    "    \n",
    "    #Try Except\n",
    "    try:\n",
    "        data_table = (\"INSERT INTO data (TITLE, IMAGE, URL, DATE) VALUES (%s, %s, %s, %s)\")\n",
    "        data_value = (title, image, url, date)\n",
    "\n",
    "        cursor.execute(data_table, data_value)\n",
    "        db_connection.commit()\n",
    "\n",
    "    except sql.IntegrityError:\n",
    "        print('duplicate entry')\n",
    "        \n",
    "    cursor.close()\n",
    "    db_connection.close()"
   ]
  }
 ],
 "metadata": {
  "kernelspec": {
   "display_name": "Python 3",
   "language": "python",
   "name": "python3"
  },
  "language_info": {
   "codemirror_mode": {
    "name": "ipython",
    "version": 3
   },
   "file_extension": ".py",
   "mimetype": "text/x-python",
   "name": "python",
   "nbconvert_exporter": "python",
   "pygments_lexer": "ipython3",
   "version": "3.6.0"
  }
 },
 "nbformat": 4,
 "nbformat_minor": 2
}
