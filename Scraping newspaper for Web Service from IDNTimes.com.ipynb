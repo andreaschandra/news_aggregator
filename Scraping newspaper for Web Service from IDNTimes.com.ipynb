{
 "cells": [
  {
   "cell_type": "code",
   "execution_count": 17,
   "metadata": {
    "collapsed": false
   },
   "outputs": [],
   "source": [
    "import urllib3\n",
    "import certifi\n",
    "import mysql.connector as sql\n",
    "from bs4 import BeautifulSoup\n",
    "\n",
    "#Urllib3\n",
    "http = urllib3.PoolManager(cert_reqs='CERT_REQUIRED', ca_certs=certifi.where())\n",
    "\n",
    "def generate_date(prev_date):\n",
    "    from datetime import date, timedelta\n",
    "    date_list = []\n",
    "    for i in range(1, prev_date):\n",
    "        tanggal = date.today() - timedelta(i)\n",
    "        date_list.append(tanggal)\n",
    "    \n",
    "    return date_list\n",
    "\n",
    "def insert(title, image, url, date):\n",
    "    db_connection = sql.connect(host='127.0.0.1', database='news_aggregator', user='root', password='')\n",
    "    cursor = db_connection.cursor()\n",
    "    \n",
    "    #Try Except\n",
    "    try:\n",
    "        data_table = (\"INSERT INTO data (TITLE, IMAGE, URL, DATE) VALUES (%s, %s, %s, %s)\")\n",
    "        data_value = (title, image, url, date)\n",
    "\n",
    "        cursor.execute(data_table, data_value)\n",
    "        db_connection.commit()\n",
    "\n",
    "    except sql.IntegrityError:\n",
    "        print('duplicate entry')\n",
    "        \n",
    "    cursor.close()\n",
    "    db_connection.close()"
   ]
  },
  {
   "cell_type": "code",
   "execution_count": 70,
   "metadata": {
    "collapsed": true
   },
   "outputs": [],
   "source": [
    "def pull_data_idntimes(domain, pagination):\n",
    "    \n",
    "    for j in range(1, pagination):\n",
    "        url = domain\n",
    "        print(url)\n",
    "\n",
    "        #Get article from website\n",
    "        req = http.request('GET', url, headers={'x-requested-with': 'XMLHttpRequest'})\n",
    "        soup = BeautifulSoup(req.data, 'lxml')\n",
    "        \n",
    "        try:\n",
    "            containers = soup.find_all('div', attrs={'class': 'paper2'})\n",
    "        except:\n",
    "            print('container not found')\n",
    "            break\n",
    "            \n",
    "        for cont in range(0, len(containers)):\n",
    "            container = soup.find_all('div', attrs={'class': 'paper2'})[cont]\n",
    "\n",
    "            try:\n",
    "                boxes = container.find_all('div', attrs={'class': 'paper'})\n",
    "            except:\n",
    "                print('box not found')\n",
    "                break\n",
    "\n",
    "            for i in range(0, len(boxes)):\n",
    "                box = container.find_all('div', attrs={'class': 'paper'})[i]\n",
    "\n",
    "                #Get Title Article\n",
    "                try:\n",
    "                    title = box.find('h3').text\n",
    "                    print(title)\n",
    "                except:\n",
    "                    print('h3.text not found')\n",
    "                    break\n",
    "\n",
    "                #Get Image\n",
    "                try:\n",
    "                    image = box.find('img').get('data-original')\n",
    "                    print(image)\n",
    "                except:\n",
    "                    print('img not found')\n",
    "                    break\n",
    "\n",
    "                #Get URL Article\n",
    "                try:\n",
    "                    url = box.find('a').get('href')\n",
    "                    print(url)\n",
    "                except:\n",
    "                    print('href not found')\n",
    "                    break\n",
    "\n",
    "                #Get Date\n",
    "                try:\n",
    "                    datediv = box.find('div', attrs={'class': 'caption'})\n",
    "                    datea = datediv.find_all('a')[0].text\n",
    "                    datearr = datea.split(' ')\n",
    "                    print(datearr)\n",
    "                except:\n",
    "                    print('date not found')\n",
    "                    break\n",
    "\n",
    "#                 insert(title, image, url, date)\n",
    "                \n",
    "    return \"done\""
   ]
  },
  {
   "cell_type": "code",
   "execution_count": 73,
   "metadata": {
    "collapsed": false
   },
   "outputs": [],
   "source": [
    " domain = [\n",
    "#           'https://news.idntimes.com/ajax/get-infinite-articles?offset=0&limit=9&offsetcommunity=0&category=news&subCategory=',\n",
    "#           'https://hype.idntimes.com/ajax/get-infinite-articles?offset=0&limit=9&offsetcommunity=0&category=hype&subCategory=',\n",
    "#           'https://life.idntimes.com/ajax/get-infinite-articles?offset=0&limit=9&offsetcommunity=0&category=life&subCategory=',\n",
    "#           'https://business.idntimes.com/ajax/get-infinite-articles?offset=0&limit=9&offsetcommunity=0&category=business&subCategory=',\n",
    "#           'https://health.idntimes.com/ajax/get-infinite-articles?offset=0&limit=9&offsetcommunity=0&category=health&subCategory=',\n",
    "#           'https://tech.idntimes.com/ajax/get-infinite-articles?offset=0&limit=9&offsetcommunity=0&category=tech&subCategory=',\n",
    "#           'https://sport.idntimes.com/ajax/get-infinite-articles?offset=0&limit=9&offsetcommunity=0&category=sport&subCategory=',\n",
    "#           'https://travel.idntimes.com/ajax/get-infinite-articles?offset=0&limit=9&offsetcommunity=0&category=travel&subCategory=',\n",
    "#           'https://men.idntimes.com/ajax/get-infinite-articles?offset=0&limit=9&offsetcommunity=0&category=men&subCategory=',\n",
    "#           'https://food.idntimes.com/ajax/get-infinite-articles?offset=0&limit=9&offsetcommunity=0&category=food&subCategory=',\n",
    "#           'https://fiction.idntimes.com/ajax/get-infinite-articles?offset=0&limit=9&offsetcommunity=45&category=fiction&subCategory=' #increment on offsetcommunity each 9,\n",
    "#           'https://science.idntimes.com/ajax/get-infinite-articles?offset=0&limit=9&offsetcommunity=0&category=science&subCategory=',\n",
    "#           'https://automotive.idntimes.com/ajax/get-infinite-articles?offset=0&limit=9&offsetcommunity=0&category=automotive&subCategory='\n",
    "         ]"
   ]
  },
  {
   "cell_type": "code",
   "execution_count": 74,
   "metadata": {
    "collapsed": false
   },
   "outputs": [
    {
     "name": "stdout",
     "output_type": "stream",
     "text": [
      "https://science.idntimes.com/ajax/get-infinite-articles?offset=0&limit=9&offsetcommunity=0&category=science&subCategory=\n",
      "Kurangi Penggunaan Instagram atau Kesehatan Mentalmu Rusak\n",
      "https://cdn.idntimes.com/content-images/community/2017/08/shutterstock-475429129-582f4cec5f9b58d5b1b1a640-17dcfdb82cca62a9d5a1091756db4cc4_300x200.jpg\n",
      "https://science.idntimes.com/experiment/risca-septi-w/kurangi-penggunaan-instagram-c1c2\n",
      "['23', 'Agustus', '2017', '']\n",
      "Ilmuwan Akhirnya Tahu Kenapa Gambar Trypophobia Bikin Merinding\n",
      "https://cdn.idntimes.com/content-images/post/20170822/trypocover-303ca06c375eaac467f0edb31fd2027c_300x200.jpg\n",
      "https://science.idntimes.com/experiment/bayu/kenapa-gambar-trypophobia-bikin-merinding-1\n",
      "['22', 'Agustus', '2017', '']\n",
      "Kira-kira Ini 10 Kemampuan Super yang Paling Diidamkan Banyak Orang\n",
      "https://cdn.idntimes.com/content-images/community/2017/08/superman-93a3187302238c24bf0616da24ea09c3_300x200.jpg\n",
      "https://science.idntimes.com/discovery/iip-afifullah/kemampuan-super-yang-paling-diidamkan-orang-c1c2\n",
      "['22', 'Agustus', '2017', '']\n",
      "9 Penemuan Paling Aneh di Dunia yang Bikin Kamu Bingung Esensinya Apa\n",
      "https://cdn.idntimes.com/content-images/post/20170821/alg-social-spheres-jpg-2eb376d4c2da921113e561c2a848b21b_300x200.jpg\n",
      "https://science.idntimes.com/experiment/sophia-marie/9-penemuan-paling-aneh-dan-gak-banget-yang-gak-nyangka-ada-di-dunia\n",
      "['22', 'Agustus', '2017', '']\n",
      "Jika Lihat Tanaman Ini Merambat di Pekarangan Rumah, Jangan Dibasmi! \n",
      "https://cdn.idntimes.com/content-images/post/20170821/daun-krokot-e817c21785a02add698b1acbde310f5e_300x200.jpg\n",
      "https://science.idntimes.com/discovery/tita/manfaat-krokot-yang-sering-merambat-di-pekarangan-rumah\n",
      "['22', 'Agustus', '2017', '']\n",
      "NASA Terbangkan Bakteri ke Antariksa Saat Gerhana Matahari. Ada Apa, ya?\n",
      "https://cdn.idntimes.com/content-images/community/2017/08/nasa-balloon-1f38a0b8dcc0d0a4282e7e9cb461ecaf_300x200.jpg\n",
      "https://science.idntimes.com/experiment/maulana-putra/nasa-terbangkan-bakteri-saat-gerhana-matahari-c1c2\n",
      "['22', 'Agustus', '2017', '']\n",
      "Sebagian Orang Bisa Ingat Mimpi Mereka Selepas Bangun Tidur. Kok, Bisa?\n",
      "https://cdn.idntimes.com/content-images/community/2017/08/signs-dealing-insomnia-a08ed4dbf5748ba3389051df61371706_300x200.jpg\n",
      "https://science.idntimes.com/discovery/destia-3/sebagian-orang-bisa-mengingat-mimpi-c1c2\n",
      "['21', 'Agustus', '2017', '']\n",
      "10 Fakta Unik Soal Kupu-Kupu yang Belum Pernah Kamu Tahu\n",
      "https://cdn.idntimes.com/content-images/post/20170814/f12-e5fffc59ac8fe8b88f6ab3146615d16f_300x200.jpg\n",
      "https://science.idntimes.com/discovery/bayu/fakta-unik-kupu-kupu\n",
      "['19', 'Agustus', '2017', '']\n",
      "Ada Alasan Ilmiah Kenapa Pria Perlu Masturbasi Setidaknya 21x Sebulan\n",
      "https://cdn.idntimes.com/content-images/post/20170814/e1-c6b8840cbfc24723b188b6daba9868e0_300x200.jpg\n",
      "https://science.idntimes.com/experiment/bayu/alasan-kenapa-pria-perlu-masturbasi\n",
      "['18', 'Agustus', '2017', '']\n"
     ]
    },
    {
     "data": {
      "text/plain": [
       "'done'"
      ]
     },
     "execution_count": 74,
     "metadata": {},
     "output_type": "execute_result"
    }
   ],
   "source": [
    "pull_data_idntimes(domain[0], 2)"
   ]
  }
 ],
 "metadata": {
  "kernelspec": {
   "display_name": "Python 3",
   "language": "python",
   "name": "python3"
  },
  "language_info": {
   "codemirror_mode": {
    "name": "ipython",
    "version": 3
   },
   "file_extension": ".py",
   "mimetype": "text/x-python",
   "name": "python",
   "nbconvert_exporter": "python",
   "pygments_lexer": "ipython3",
   "version": "3.6.0"
  }
 },
 "nbformat": 4,
 "nbformat_minor": 2
}
