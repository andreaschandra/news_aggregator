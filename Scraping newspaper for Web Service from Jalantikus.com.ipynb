{
 "cells": [
  {
   "cell_type": "code",
   "execution_count": 15,
   "metadata": {
    "collapsed": true
   },
   "outputs": [],
   "source": [
    "import urllib3\n",
    "import certifi\n",
    "import re\n",
    "import mysql.connector as sql\n",
    "from datetime import date, datetime, timedelta\n",
    "from bs4 import BeautifulSoup\n",
    "\n",
    "#Urllib3\n",
    "http = urllib3.PoolManager( cert_reqs='CERT_REQUIRED', ca_certs=certifi.where())\n",
    "\n",
    "def generate_date(prev_date):\n",
    "    date_list = []\n",
    "    for i in range(1, prev_date):\n",
    "        tanggal = date.today() - timedelta(i)\n",
    "        date_list.append(tanggal)\n",
    "    \n",
    "    return date_list\n",
    "\n",
    "def insert(title, image, url, date):\n",
    "    db_connection = sql.connect(host='127.0.0.1', database='news_aggregator', user='root', password='')\n",
    "    cursor = db_connection.cursor()\n",
    "    \n",
    "    #Try Except\n",
    "    try:\n",
    "        data_table = (\"INSERT INTO data (TITLE, IMAGE, URL, DATE) VALUES (%s, %s, %s, %s)\")\n",
    "        data_value = (title, image, url, date)\n",
    "\n",
    "        cursor.execute(data_table, data_value)\n",
    "        db_connection.commit()\n",
    "\n",
    "    except sql.IntegrityError:\n",
    "        print('duplicate entry')\n",
    "        \n",
    "    cursor.close()\n",
    "    db_connection.close()"
   ]
  },
  {
   "cell_type": "code",
   "execution_count": 22,
   "metadata": {
    "collapsed": true
   },
   "outputs": [],
   "source": [
    "def pull_data_jalantikus(domain, pagination):\n",
    "    \n",
    "    for j in range(1, pagination):\n",
    "        url = domain + str(j) + '/'\n",
    "        print(url)\n",
    "\n",
    "        #Get article from website\n",
    "        req = http.request('GET', url)\n",
    "        soup = BeautifulSoup(req.data, 'lxml')\n",
    "\n",
    "        try:\n",
    "            container = soup.find('div', attrs={'class':'content-list'})\n",
    "        except:\n",
    "            print('container not found')\n",
    "            break\n",
    "\n",
    "        try:\n",
    "            boxes = container.find_all('div', attrs={'class': 'article-detail horizontal mSz cf mainspring-track'})\n",
    "        except:\n",
    "            print('box not found')\n",
    "            break\n",
    "\n",
    "        for i in range(0, len(boxes)):\n",
    "            box = container.find_all('div', attrs={'class': 'article-detail horizontal mSz cf mainspring-track'})[i]\n",
    "\n",
    "            #Get Title Article\n",
    "            try:\n",
    "                title = box.find('span', attrs={'class': 'title-text fs1 lSz text-link cl1 trs entry-title'}).text\n",
    "            except:\n",
    "                print('h2.text not found')\n",
    "                break\n",
    "\n",
    "            #Get Image\n",
    "            try:\n",
    "                image = box.find('img').get('src')\n",
    "            except:\n",
    "                print('image not found')\n",
    "                break\n",
    "\n",
    "            #Get URL Article\n",
    "            try:\n",
    "                url = box.find('a').get('href')\n",
    "            except:\n",
    "                print('href not found')\n",
    "                break\n",
    "\n",
    "            #Get Date\n",
    "            tanggal = date.today()\n",
    "            \n",
    "            insert(title, image, url, tanggal)"
   ]
  },
  {
   "cell_type": "code",
   "execution_count": 17,
   "metadata": {
    "collapsed": true
   },
   "outputs": [],
   "source": [
    "domain = [\n",
    "    'https://jalantikus.com/tips/browse/page/',\n",
    "    'https://jalantikus.com/gokil/browse/page/',\n",
    "    'https://jalantikus.com/gadgets/browse/page/',\n",
    "    'https://jalantikus.com/news/browse/page/'\n",
    "]"
   ]
  },
  {
   "cell_type": "code",
   "execution_count": 23,
   "metadata": {
    "collapsed": false
   },
   "outputs": [
    {
     "name": "stdout",
     "output_type": "stream",
     "text": [
      "https://jalantikus.com/tips/browse/page/1/\n",
      "https://jalantikus.com/gokil/browse/page/1/\n",
      "https://jalantikus.com/gadgets/browse/page/1/\n",
      "https://jalantikus.com/news/browse/page/1/\n"
     ]
    }
   ],
   "source": [
    "for url in domain:\n",
    "    pull_data_jalantikus(url, 2)"
   ]
  }
 ],
 "metadata": {
  "kernelspec": {
   "display_name": "Python 3",
   "language": "python",
   "name": "python3"
  },
  "language_info": {
   "codemirror_mode": {
    "name": "ipython",
    "version": 3
   },
   "file_extension": ".py",
   "mimetype": "text/x-python",
   "name": "python",
   "nbconvert_exporter": "python",
   "pygments_lexer": "ipython3",
   "version": "3.6.0"
  }
 },
 "nbformat": 4,
 "nbformat_minor": 2
}
