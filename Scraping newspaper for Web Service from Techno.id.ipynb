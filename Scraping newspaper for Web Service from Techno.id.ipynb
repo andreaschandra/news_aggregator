{
 "cells": [
  {
   "cell_type": "code",
   "execution_count": 6,
   "metadata": {
    "collapsed": true
   },
   "outputs": [],
   "source": [
    "import urllib3\n",
    "import certifi\n",
    "import re\n",
    "import mysql.connector as sql\n",
    "from datetime import datetime\n",
    "from bs4 import BeautifulSoup\n",
    "\n",
    "#Urllib3\n",
    "http = urllib3.PoolManager( cert_reqs='CERT_REQUIRED', ca_certs=certifi.where())\n",
    "\n",
    "def generate_date(prev_date):\n",
    "    from datetime import date, timedelta\n",
    "    date_list = []\n",
    "    for i in range(1, prev_date):\n",
    "        tanggal = date.today() - timedelta(i)\n",
    "        date_list.append(tanggal)\n",
    "    \n",
    "    return date_list\n",
    "\n",
    "def insert(title, image, url, date):\n",
    "    db_connection = sql.connect(host='127.0.0.1', database='news_aggregator', user='root', password='')\n",
    "    cursor = db_connection.cursor()\n",
    "    \n",
    "    #Try Except\n",
    "    try:\n",
    "        data_table = (\"INSERT INTO data (TITLE, IMAGE, URL, DATE) VALUES (%s, %s, %s, %s)\")\n",
    "        data_value = (title, image, url, date)\n",
    "\n",
    "        cursor.execute(data_table, data_value)\n",
    "        db_connection.commit()\n",
    "\n",
    "    except sql.IntegrityError:\n",
    "        print('duplicate entry')\n",
    "        \n",
    "    cursor.close()\n",
    "    db_connection.close()"
   ]
  },
  {
   "cell_type": "code",
   "execution_count": 21,
   "metadata": {
    "collapsed": true
   },
   "outputs": [],
   "source": [
    "month = {'Januari': '01',\n",
    "         'Februari': '02',\n",
    "         'Maret': '03',\n",
    "         'April': '04',\n",
    "         'Mei': '05',\n",
    "         'Juni': '06',\n",
    "         'Juli': '07',\n",
    "         'Agustus': '08',\n",
    "         'September': '09',\n",
    "         'Oktober': '10',\n",
    "         'November': '11',\n",
    "         'Desember': '12'\n",
    "        }"
   ]
  },
  {
   "cell_type": "code",
   "execution_count": 28,
   "metadata": {
    "collapsed": false
   },
   "outputs": [],
   "source": [
    "def pull_data_techno(domain, pagination):\n",
    "    \n",
    "    for pag in range(1, pagination):\n",
    "        if pag == 1:\n",
    "            url = domain + '.html'\n",
    "        else:\n",
    "            url = domain + str(pag) + '.html'\n",
    "        print(url)\n",
    "\n",
    "        #Get article from website\n",
    "        req = http.request('GET', url)\n",
    "        soup = BeautifulSoup(req.data, 'lxml')\n",
    "\n",
    "        try:\n",
    "            containers = soup.find_all('ul', attrs={'class':'list-article-techno list-article-border list-unstyled'})\n",
    "        except:\n",
    "            print('container not found')\n",
    "            break\n",
    "        \n",
    "        for cont in range(0, len(containers)):\n",
    "            container = soup.find_all('ul', attrs={'class':'list-article-techno list-article-border list-unstyled'})[cont]\n",
    "            \n",
    "            try:\n",
    "                boxes = container.find_all('li')\n",
    "            except:\n",
    "                print('box not found')\n",
    "                break\n",
    "\n",
    "            for i in range(0, len(boxes)):\n",
    "                box = container.find_all('li')[i]\n",
    "\n",
    "                #Get Title Article\n",
    "                try:\n",
    "                    title = box.find('p').text\n",
    "                except:\n",
    "                    print('h2.text not found')\n",
    "                    break\n",
    "\n",
    "                #Get Image\n",
    "                try:\n",
    "                    image = box.find('img').get('src')\n",
    "                except:\n",
    "                    print('image not found')\n",
    "                    break\n",
    "\n",
    "                #Get URL Article\n",
    "                try:\n",
    "                    url = box.find('a').get('href')\n",
    "                except:\n",
    "                    print('href not found')\n",
    "                    break\n",
    "\n",
    "                #Get Date\n",
    "                try:\n",
    "                    dateraw = box.find('span', attrs={'class': 'date'}).text\n",
    "                    datestring = re.sub(r\"\"\" [0-9]{2}:[0-9]{2}\"\"\", '', dateraw)\n",
    "                    datearr = datestring.split(' ')\n",
    "                \n",
    "                    for key in month:\n",
    "                        if datearr[1] in key:\n",
    "                            datearr[1] = month[key]\n",
    "\n",
    "                    datestr = '/'.join(d for d in datearr)\n",
    "                    date = datetime.strptime(datestr, '%d/%m/%Y')\n",
    "                except:\n",
    "                    print('date not found')\n",
    "                    break\n",
    "                    \n",
    "                insert(title, image, url, date)"
   ]
  },
  {
   "cell_type": "code",
   "execution_count": 26,
   "metadata": {
    "collapsed": true
   },
   "outputs": [],
   "source": [
    "domain = [\n",
    "    'https://www.techno.id/startup/index',\n",
    "    'https://www.techno.id/gadget/index',\n",
    "    'https://www.techno.id/apps/index',\n",
    "    'https://www.techno.id/social/index',\n",
    "    'https://www.techno.id/tech-news/index',\n",
    "    'https://www.techno.id/photo/index',\n",
    "    'https://www.techno.id/telco/index',\n",
    "    'https://www.techno.id/science/index'\n",
    "]"
   ]
  },
  {
   "cell_type": "code",
   "execution_count": 30,
   "metadata": {
    "collapsed": false
   },
   "outputs": [
    {
     "name": "stdout",
     "output_type": "stream",
     "text": [
      "https://www.techno.id/startup/index.html\n",
      "https://www.techno.id/gadget/index.html\n",
      "https://www.techno.id/apps/index.html\n",
      "https://www.techno.id/social/index.html\n",
      "https://www.techno.id/tech-news/index.html\n",
      "https://www.techno.id/photo/index.html\n",
      "https://www.techno.id/telco/index.html\n",
      "https://www.techno.id/science/index.html\n"
     ]
    }
   ],
   "source": [
    "for url in domain:\n",
    "    pull_data_techno(url, 2)"
   ]
  }
 ],
 "metadata": {
  "kernelspec": {
   "display_name": "Python 3",
   "language": "python",
   "name": "python3"
  },
  "language_info": {
   "codemirror_mode": {
    "name": "ipython",
    "version": 3
   },
   "file_extension": ".py",
   "mimetype": "text/x-python",
   "name": "python",
   "nbconvert_exporter": "python",
   "pygments_lexer": "ipython3",
   "version": "3.6.0"
  }
 },
 "nbformat": 4,
 "nbformat_minor": 2
}
